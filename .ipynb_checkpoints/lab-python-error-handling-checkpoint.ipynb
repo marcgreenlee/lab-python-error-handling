{
 "cells": [
  {
   "cell_type": "markdown",
   "id": "25d7736c-ba17-4aff-b6bb-66eba20fbf4e",
   "metadata": {},
   "source": [
    "# Lab | Error Handling"
   ]
  },
  {
   "cell_type": "markdown",
   "id": "6b95d61f-a2d4-40a5-b92b-e6b72dc13bd3",
   "metadata": {},
   "source": [
    "## Exercise: Error Handling for Managing Customer Orders\n",
    "\n",
    "The implementation of your code for managing customer orders assumes that the user will always enter a valid input. \n",
    "\n",
    "For example, we could modify the `initialize_inventory` function to include error handling.\n",
    "   - If the user enters an invalid quantity (e.g., a negative value or a non-numeric value), display an error message and ask them to re-enter the quantity for that product.\n",
    "   - Use a try-except block to handle the error and continue prompting the user until a valid quantity is entered.\n",
    "\n",
    "```python\n",
    "# Step 1: Define the function for initializing the inventory with error handling\n",
    "def initialize_inventory(products):\n",
    "    inventory = {}\n",
    "    for product in products:\n",
    "        valid_quantity = False\n",
    "        while not valid_quantity:\n",
    "            try:\n",
    "                quantity = int(input(f\"Enter the quantity of {product}s available: \"))\n",
    "                if quantity < 0:\n",
    "                    raise ValueError(\"Invalid quantity! Please enter a non-negative value.\")\n",
    "                valid_quantity = True\n",
    "            except ValueError as error:\n",
    "                print(f\"Error: {error}\")\n",
    "        inventory[product] = quantity\n",
    "    return inventory\n",
    "\n",
    "# Or, in another way:\n",
    "\n",
    "def initialize_inventory(products):\n",
    "    inventory = {}\n",
    "    for product in products:\n",
    "        valid_input = False\n",
    "        while not valid_input:\n",
    "            try:\n",
    "                quantity = int(input(f\"Enter the quantity of {product}s available: \"))\n",
    "                if quantity >= 0:\n",
    "                    inventory[product] = quantity\n",
    "                    valid_input = True\n",
    "                else:\n",
    "                    print(\"Quantity cannot be negative. Please enter a valid quantity.\")\n",
    "            except ValueError:\n",
    "                print(\"Invalid input. Please enter a valid quantity.\")\n",
    "    return inventory\n",
    "```\n",
    "\n",
    "Let's enhance your code by implementing error handling to handle invalid inputs.\n",
    "\n",
    "Follow the steps below to complete the exercise:\n",
    "\n",
    "2. Modify the `calculate_total_price` function to include error handling.\n",
    "   - If the user enters an invalid price (e.g., a negative value or a non-numeric value), display an error message and ask them to re-enter the price for that product.\n",
    "   - Use a try-except block to handle the error and continue prompting the user until a valid price is entered.\n",
    "\n",
    "3. Modify the `get_customer_orders` function to include error handling.\n",
    "   - If the user enters an invalid number of orders (e.g., a negative value or a non-numeric value), display an error message and ask them to re-enter the number of orders.\n",
    "   - If the user enters an invalid product name (e.g., a product name that is not in the inventory), or that doesn't have stock available, display an error message and ask them to re-enter the product name. *Hint: you will need to pass inventory as a parameter*\n",
    "   - Use a try-except block to handle the error and continue prompting the user until a valid product name is entered.\n",
    "\n",
    "4. Test your code by running the program and deliberately entering invalid quantities and product names. Make sure the error handling mechanism works as expected.\n"
   ]
  },
  {
   "cell_type": "code",
   "execution_count": 33,
   "id": "7ddb72c8-0c53-4c61-aa06-c4613e2e0bd5",
   "metadata": {},
   "outputs": [
    {
     "name": "stdin",
     "output_type": "stream",
     "text": [
      "please enter the available quantity of t-shirt:  2\n",
      "please enter the available quantity of mug:  2\n",
      "please enter the available quantity of hat:  2\n",
      "please enter the available quantity of book:  2\n",
      "please enter the available quantity of keychain:  2\n"
     ]
    },
    {
     "name": "stdout",
     "output_type": "stream",
     "text": [
      "the current inventory is:  {'t-shirt': 2, 'mug': 2, 'hat': 2, 'book': 2, 'keychain': 2}\n"
     ]
    }
   ],
   "source": [
    "products = [\"t-shirt\", \"mug\", \"hat\", \"book\", \"keychain\"]\n",
    "inventory = {}\n",
    "def initialize_inventory(products):\n",
    "    inventory = {product: int(input(f\"please enter the available quantity of {product}: \")) for product in products}\n",
    "    return print(\"the current inventory is: \", inventory)\n",
    "\n",
    "initialize_inventory(products)"
   ]
  },
  {
   "cell_type": "code",
   "execution_count": null,
   "id": "e095326b-e07c-472a-b237-a04daec89a19",
   "metadata": {},
   "outputs": [
    {
     "name": "stdin",
     "output_type": "stream",
     "text": [
      "Please enter the number of customer orders:  2\n",
      "Please enter the name of product number 1:  book\n"
     ]
    },
    {
     "name": "stdout",
     "output_type": "stream",
     "text": [
      "'book' is either not in inventory or out of stock. Please enter a valid product name.\n"
     ]
    },
    {
     "name": "stdin",
     "output_type": "stream",
     "text": [
      "Please enter the name of product number 1:  mug\n"
     ]
    },
    {
     "name": "stdout",
     "output_type": "stream",
     "text": [
      "'mug' is either not in inventory or out of stock. Please enter a valid product name.\n"
     ]
    }
   ],
   "source": [
    "\n",
    "inventory = {}\n",
    "\n",
    "def get_customer_orders(inventory):\n",
    "    # Get the number of orders with error handling\n",
    "    while True:\n",
    "        try:\n",
    "            number_of_orders = int(input(\"Please enter the number of customer orders: \"))\n",
    "            if number_of_orders <= 0:\n",
    "                print(\"The number of orders must be a positive integer.\")\n",
    "            else:\n",
    "                break  # Exit loop if input is valid\n",
    "        except ValueError:\n",
    "            print(\"Invalid input. Please enter a valid integer for the number of orders.\")\n",
    "    \n",
    "    # Get valid product names with error handling\n",
    "    customer_orders = set()\n",
    "    for i in range(number_of_orders):\n",
    "        while True:\n",
    "            product_name = input(f\"Please enter the name of product number {i + 1}: \")\n",
    "            # Check if the product is in inventory and has stock available\n",
    "            if product_name in inventory and inventory[product_name] > 0:\n",
    "                customer_orders.add(product_name)\n",
    "                break  # Exit loop if product name is valid and has stock\n",
    "            else:\n",
    "                print(f\"'{product_name}' is either not in inventory or out of stock. Please enter a valid product name.\")\n",
    "    \n",
    "    print(\"The list of orders is:\", customer_orders)\n",
    "    return customer_orders\n",
    "\n",
    "get_customer_orders(inventory)"
   ]
  },
  {
   "cell_type": "code",
   "execution_count": 15,
   "id": "212e5892-dd2d-4fea-93c0-92dfeadd9bf7",
   "metadata": {},
   "outputs": [
    {
     "name": "stdin",
     "output_type": "stream",
     "text": [
      "Please enter the number of customer orders:  2\n",
      "please enter the name of product number 1:  car\n",
      "please enter the name of product number 2:  movie\n"
     ]
    },
    {
     "name": "stdout",
     "output_type": "stream",
     "text": [
      "the list of orders is:  {'car', 'movie'}\n"
     ]
    },
    {
     "name": "stdin",
     "output_type": "stream",
     "text": [
      "Please enter the price of car:  s\n"
     ]
    },
    {
     "name": "stdout",
     "output_type": "stream",
     "text": [
      "Invalid input. Please enter a numeric value for the price.\n"
     ]
    },
    {
     "name": "stdin",
     "output_type": "stream",
     "text": [
      "Please enter the price of car:  h\n"
     ]
    },
    {
     "name": "stdout",
     "output_type": "stream",
     "text": [
      "Invalid input. Please enter a numeric value for the price.\n"
     ]
    },
    {
     "name": "stdin",
     "output_type": "stream",
     "text": [
      "Please enter the price of car:  4\n",
      "Please enter the price of movie:  5\n"
     ]
    },
    {
     "name": "stdout",
     "output_type": "stream",
     "text": [
      "The total price of the order is: 9\n"
     ]
    },
    {
     "data": {
      "text/plain": [
       "9"
      ]
     },
     "execution_count": 15,
     "metadata": {},
     "output_type": "execute_result"
    }
   ],
   "source": [
    "#calculate_total_price with error handling\n",
    "\n",
    "def total_price(orders):\n",
    "    total_price = 0\n",
    "    \n",
    "    for product in orders:\n",
    "        while True:\n",
    "            try:\n",
    "                price = int(input(f\"Please enter the price of {product}: \"))\n",
    "                \n",
    "                if price < 0:\n",
    "                    print(\"Price cannot be negative. Please enter a positive value.\")\n",
    "                else:\n",
    "                    total_price += price\n",
    "                    break  \n",
    "            except ValueError:\n",
    "                print(\"Invalid input. Please enter a numeric value for the price.\")\n",
    "    \n",
    "    print(\"The total price of the order is:\", total_price)\n",
    "    return total_price\n",
    "\n",
    "\n",
    "orders = get_customer_orders()\n",
    "\n",
    "\n",
    "total_price(orders)\n"
   ]
  },
  {
   "cell_type": "code",
   "execution_count": null,
   "id": "f2cb91d7-f608-45ac-aed3-0d4564b71467",
   "metadata": {},
   "outputs": [],
   "source": []
  }
 ],
 "metadata": {
  "kernelspec": {
   "display_name": "Python 3 (ipykernel)",
   "language": "python",
   "name": "python3"
  },
  "language_info": {
   "codemirror_mode": {
    "name": "ipython",
    "version": 3
   },
   "file_extension": ".py",
   "mimetype": "text/x-python",
   "name": "python",
   "nbconvert_exporter": "python",
   "pygments_lexer": "ipython3",
   "version": "3.12.4"
  }
 },
 "nbformat": 4,
 "nbformat_minor": 5
}
